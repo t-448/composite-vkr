{
 "cells": [
  {
   "cell_type": "code",
   "execution_count": 6,
   "metadata": {},
   "outputs": [],
   "source": [
    "import flask\n",
    "from flask import render_template\n",
    "import pickle\n",
    "import tensorflow as tf"
   ]
  },
  {
   "cell_type": "code",
   "execution_count": 7,
   "metadata": {},
   "outputs": [],
   "source": [
    "app = flask.Flask(__name__, template_folder = 'templates')"
   ]
  },
  {
   "cell_type": "code",
   "execution_count": 8,
   "metadata": {},
   "outputs": [],
   "source": [
    "@app.route('/', methods=['POST', 'GET'])\n",
    "def main():\n",
    "    if flask.request.method == 'GET':\n",
    "        return render_template('main.html')\n",
    "    \n",
    "    if flask.request.method == 'POST':\n",
    "        with open('models/model_E.pkl', 'rb') as f: \n",
    "            loaded_model = pickle.load(f)\n",
    "            \n",
    "        params = float(flask.request.form['plotnost', 'modul_up', 'kolvo_otverd', 'epoxs_group', 'temperature', \n",
    "                                              'poverh_plotnost', 'modul_up_rast', 'prochnost_rast', 'potreb_smol', 'ugol_nashivki', \n",
    "                                              'shag_nashivki', 'plotnost_nashivki'])\n",
    "        params = params.reshape(1,-1)\n",
    "        result = loaded_model.predict([[params]])\n",
    "    return render_template('main.html', result=result)"
   ]
  },
  {
   "cell_type": "code",
   "execution_count": null,
   "metadata": {},
   "outputs": [],
   "source": [
    "if __name__ == '__main__':\n",
    "    app.run(debug=True)"
   ]
  }
 ],
 "metadata": {
  "kernelspec": {
   "display_name": "Python 3",
   "language": "python",
   "name": "python3"
  },
  "language_info": {
   "codemirror_mode": {
    "name": "ipython",
    "version": 3
   },
   "file_extension": ".py",
   "mimetype": "text/x-python",
   "name": "python",
   "nbconvert_exporter": "python",
   "pygments_lexer": "ipython3",
   "version": "3.11.3"
  },
  "orig_nbformat": 4
 },
 "nbformat": 4,
 "nbformat_minor": 2
}
