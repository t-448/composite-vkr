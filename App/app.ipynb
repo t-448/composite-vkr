{
 "cells": [
  {
   "cell_type": "code",
   "execution_count": 26,
   "metadata": {},
   "outputs": [],
   "source": [
    "import flask\n",
    "from flask import Flask, request, render_template\n",
    "import tensorflow as tf\n",
    "from tensorflow import keras"
   ]
  },
  {
   "cell_type": "code",
   "execution_count": 37,
   "metadata": {},
   "outputs": [],
   "source": [
    "app = flask.Flask(__name__, template_folder = 'templates')"
   ]
  },
  {
   "cell_type": "code",
   "execution_count": 38,
   "metadata": {},
   "outputs": [],
   "source": [
    "@app.route('/', methods=['POST', 'GET'])\n",
    "def main():\n",
    "    if flask.request.method == 'GET':\n",
    "        return render_template('main.html')\n",
    "    \n",
    "    if flask.request.method == 'POST':\n",
    "        model = tf.keras.models.load_model('../models/model2/')\n",
    "        params = float(flask.request.form['plotnost', 'modul_up', 'kolvo_otverd', 'epoxs_group', 'temperature', \n",
    "                                              'poverh_plotnost', 'modul_up_rast', 'prochnost_rast', 'potreb_smol', 'ugol_nashivki', \n",
    "                                              'shag_nashivki', 'plotnost_nashivki'])\n",
    "        params = params.reshape(1,-1)\n",
    "        result = model.predict([params])\n",
    "    return render_template('templates/main.html', result=result)"
   ]
  },
  {
   "cell_type": "code",
   "execution_count": 39,
   "metadata": {},
   "outputs": [
    {
     "name": "stdout",
     "output_type": "stream",
     "text": [
      " * Serving Flask app '__main__'\n",
      " * Debug mode: off\n"
     ]
    },
    {
     "name": "stderr",
     "output_type": "stream",
     "text": [
      "\u001b[31m\u001b[1mWARNING: This is a development server. Do not use it in a production deployment. Use a production WSGI server instead.\u001b[0m\n",
      " * Running on http://127.0.0.1:5000\n",
      "\u001b[33mPress CTRL+C to quit\u001b[0m\n",
      "127.0.0.1 - - [26/Apr/2023 01:17:35] \"GET / HTTP/1.1\" 200 -\n",
      "127.0.0.1 - - [26/Apr/2023 01:17:43] \"\u001b[31m\u001b[1mPOST / HTTP/1.1\u001b[0m\" 400 -\n",
      "127.0.0.1 - - [26/Apr/2023 01:17:44] \"\u001b[31m\u001b[1mPOST / HTTP/1.1\u001b[0m\" 400 -\n"
     ]
    }
   ],
   "source": [
    "if __name__ == '__main__':\n",
    "    app.run()"
   ]
  }
 ],
 "metadata": {
  "kernelspec": {
   "display_name": "Python 3",
   "language": "python",
   "name": "python3"
  },
  "language_info": {
   "codemirror_mode": {
    "name": "ipython",
    "version": 3
   },
   "file_extension": ".py",
   "mimetype": "text/x-python",
   "name": "python",
   "nbconvert_exporter": "python",
   "pygments_lexer": "ipython3",
   "version": "3.11.3"
  },
  "orig_nbformat": 4
 },
 "nbformat": 4,
 "nbformat_minor": 2
}
